{
 "cells": [
  {
   "cell_type": "markdown",
   "metadata": {},
   "source": [
    "# How to read and process the Wikdata dump file."
   ]
  },
  {
   "cell_type": "code",
   "execution_count": null,
   "metadata": {},
   "outputs": [],
   "source": [
    "import os\n",
    "os.environ[\"LANGUAGE\"] = 'prop' # Specify the language of the entity labels, description, and aliases.\n",
    "\n",
    "from src.wikidataDumpReader import WikidataDumpReader\n",
    "from src.wikidataLangDB import create_wikidatalang_db\n",
    "from src.wikidataEntityDB import WikidataEntity\n",
    "from multiprocessing import Manager\n",
    "import time\n",
    "import os\n",
    "import json\n",
    "\n",
    "WikidataLang = create_wikidatalang_db(db_filname=f\"sqlite_propwiki.db\")"
   ]
  },
  {
   "cell_type": "markdown",
   "metadata": {},
   "source": [
    "#### Reading the Wikidata dump ZIP file and saving all labels and descriptions to SQLite"
   ]
  },
  {
   "cell_type": "code",
   "execution_count": null,
   "metadata": {},
   "outputs": [],
   "source": [
    "FILEPATH = os.getenv(\"FILEPATH\", '../data/Wikidata/latest-all.json.bz2')\n",
    "PUSH_SIZE = int(os.getenv(\"PUSH_SIZE\", 20000))\n",
    "QUEUE_SIZE = int(os.getenv(\"QUEUE_SIZE\", 15000))\n",
    "NUM_PROCESSES = int(os.getenv(\"NUM_PROCESSES\", 4))\n",
    "SKIPLINES = int(os.getenv(\"SKIPLINES\", 0))\n",
    "LANGUAGE = os.getenv(\"LANGUAGE\", 'en')"
   ]
  },
  {
   "cell_type": "code",
   "execution_count": null,
   "metadata": {},
   "outputs": [],
   "source": [
    "def save_items_to_sqlite(item, data_batch, sqlitDBlock):\n",
    "    if (item is not None):\n",
    "        labels = WikidataEntity.clean_label_description(item['labels'])\n",
    "        descriptions = WikidataEntity.clean_label_description(item['descriptions'])\n",
    "        labels = json.dumps(labels, separators=(',', ':'))\n",
    "        descriptions = json.dumps(descriptions, separators=(',', ':'))\n",
    "        in_wikipedia = WikidataEntity.is_in_wikipedia(item)\n",
    "        data_batch.append({\n",
    "            'id': item['id'],\n",
    "            'labels': labels,\n",
    "            'descriptions': descriptions,\n",
    "            'in_wikipedia': in_wikipedia,\n",
    "            'is_property': ('P' in item['id']),\n",
    "            'is_item': ('Q' in item['id']),\n",
    "        })\n",
    "\n",
    "        with sqlitDBlock:\n",
    "            if len(data_batch) > PUSH_SIZE:\n",
    "                worked = WikidataEntity.add_bulk_items(list(data_batch[:PUSH_SIZE]))\n",
    "                if worked:\n",
    "                    del data_batch[:PUSH_SIZE]\n",
    "\n",
    "multiprocess_manager = Manager()\n",
    "sqlitDBlock = multiprocess_manager.Lock()\n",
    "data_batch = multiprocess_manager.list()\n",
    "\n",
    "wikidata = WikidataDumpReader(FILEPATH, num_processes=NUM_PROCESSES, queue_size=QUEUE_SIZE, skiplines=SKIPLINES)\n",
    "wikidata.run(lambda item: save_items_to_sqlite(item, data_batch, sqlitDBlock), max_iterations=None, verbose=True)\n",
    "\n",
    "while len(data_batch) > 0:\n",
    "    worked = WikidataEntity.add_bulk_items(list(data_batch))\n",
    "    if worked:\n",
    "        del data_batch[:PUSH_SIZE]\n",
    "    else:\n",
    "        time.sleep(1)"
   ]
  },
  {
   "cell_type": "markdown",
   "metadata": {},
   "source": [
    "### Adding entities (label, description, claims, and aliases) of items connected to Wikipedia"
   ]
  },
  {
   "cell_type": "code",
   "execution_count": null,
   "metadata": {},
   "outputs": [],
   "source": [
    "FILEPATH = os.getenv(\"FILEPATH\", '../data/Wikidata/latest-all.json.bz2')\n",
    "PUSH_SIZE = int(os.getenv(\"PUSH_SIZE\", 2000))\n",
    "QUEUE_SIZE = int(os.getenv(\"QUEUE_SIZE\", 1500))\n",
    "NUM_PROCESSES = int(os.getenv(\"NUM_PROCESSES\", 4))\n",
    "SKIPLINES = int(os.getenv(\"SKIPLINES\", 0))\n",
    "LANGUAGE = os.getenv(\"LANGUAGE\", 'en')"
   ]
  },
  {
   "cell_type": "code",
   "execution_count": null,
   "metadata": {},
   "outputs": [],
   "source": [
    "def save_entities_to_sqlite(item, data_batch, sqlitDBlock):\n",
    "    if (item is not None) and WikidataLang.is_in_wikipedia(item, language=LANGUAGE):\n",
    "        item = WikidataLang.normalise_item(item, language=LANGUAGE)\n",
    "        data_batch.append(item)\n",
    "\n",
    "        with sqlitDBlock:\n",
    "            if len(data_batch) > PUSH_SIZE:\n",
    "                worked = WikidataLang.add_bulk_entities(list(data_batch[:PUSH_SIZE]))\n",
    "                if worked:\n",
    "                    del data_batch[:PUSH_SIZE]\n",
    "\n",
    "multiprocess_manager = Manager()\n",
    "sqlitDBlock = multiprocess_manager.Lock()\n",
    "data_batch = multiprocess_manager.list()\n",
    "\n",
    "wikidata = WikidataDumpReader(FILEPATH, num_processes=NUM_PROCESSES, queue_size=QUEUE_SIZE, skiplines=SKIPLINES)\n",
    "wikidata.run(lambda item: save_entities_to_sqlite(item, data_batch, sqlitDBlock), max_iterations=None, verbose=True)\n",
    "\n",
    "while len(data_batch) > 0:\n",
    "    worked = WikidataLang.add_bulk_entities(list(data_batch))\n",
    "    if worked:\n",
    "        del data_batch[:PUSH_SIZE]\n",
    "    else:\n",
    "        time.sleep(1)"
   ]
  },
  {
   "cell_type": "code",
   "execution_count": null,
   "metadata": {},
   "outputs": [],
   "source": [
    "LANGUAGE = 'en'\n",
    "\n",
    "def save_properties_to_sqlite(item, data_batch, sqlitDBlock):\n",
    "    if (item is not None) and ('P' in item['id']):\n",
    "        item = WikidataLang.normalise_item(item, language=LANGUAGE)\n",
    "        data_batch.append(item)\n",
    "\n",
    "        with sqlitDBlock:\n",
    "            if len(data_batch) > PUSH_SIZE:\n",
    "                worked = WikidataLang.add_bulk_entities(list(data_batch[:PUSH_SIZE]))\n",
    "                if worked:\n",
    "                    del data_batch[:PUSH_SIZE]\n",
    "\n",
    "multiprocess_manager = Manager()\n",
    "sqlitDBlock = multiprocess_manager.Lock()\n",
    "data_batch = multiprocess_manager.list()\n",
    "\n",
    "wikidata = WikidataDumpReader(FILEPATH, num_processes=NUM_PROCESSES, queue_size=QUEUE_SIZE, skiplines=SKIPLINES)\n",
    "wikidata.run(lambda item: save_properties_to_sqlite(item, data_batch, sqlitDBlock), max_iterations=None, verbose=True)\n",
    "\n",
    "while len(data_batch) > 0:\n",
    "    worked = WikidataLang.add_bulk_entities(list(data_batch))\n",
    "    if worked:\n",
    "        del data_batch[:PUSH_SIZE]\n",
    "    else:\n",
    "        time.sleep(1)"
   ]
  }
 ],
 "metadata": {
  "kernelspec": {
   "display_name": "base",
   "language": "python",
   "name": "python3"
  },
  "language_info": {
   "codemirror_mode": {
    "name": "ipython",
    "version": 3
   },
   "file_extension": ".py",
   "mimetype": "text/x-python",
   "name": "python",
   "nbconvert_exporter": "python",
   "pygments_lexer": "ipython3",
   "version": "3.12.2"
  }
 },
 "nbformat": 4,
 "nbformat_minor": 2
}
