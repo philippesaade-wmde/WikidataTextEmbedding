{
 "cells": [
  {
   "cell_type": "markdown",
   "metadata": {},
   "source": [
    "# Re-rank results"
   ]
  },
  {
   "cell_type": "code",
   "execution_count": null,
   "metadata": {},
   "outputs": [],
   "source": [
    "import numpy as np\n",
    "import pickle\n",
    "import pandas as pd\n",
    "from src.JinaAI import JinaAIReranker\n",
    "from src.wikidataLangDB import create_wikidatalang_db\n",
    "from src.wikidataEmbed import WikidataTextifier\n",
    "from tqdm import tqdm\n",
    "import os\n",
    "\n",
    "textifier = WikidataTextifier(language='en', langvar_filename='en')\n",
    "\n",
    "WikidataLang = create_wikidatalang_db(db_filname=f\"sqlite_enwiki.db\")\n",
    "\n",
    "reranker = JinaAIReranker(device='cpu')"
   ]
  },
  {
   "cell_type": "code",
   "execution_count": null,
   "metadata": {},
   "outputs": [],
   "source": [
    "def rerank_qids(query, qids):\n",
    "    rerank_scores = []\n",
    "\n",
    "    for qid in qids:\n",
    "        entity = WikidataLang.get_entity(qid)\n",
    "        if entity:\n",
    "            chunks = textifier.chunk_text(entity, tokenizer=reranker.tokenizer)\n",
    "            score = reranker.rank(query, chunks)\n",
    "            rerank_scores.append(np.max(score))\n",
    "        else:\n",
    "            rerank_scores.append(0)\n",
    "\n",
    "    return rerank_scores"
   ]
  },
  {
   "cell_type": "code",
   "execution_count": null,
   "metadata": {},
   "outputs": [],
   "source": [
    "dataset = \"LC_QuAD\"\n",
    "save_path = f'/home/philippe.saade/GitHub/WikidataTextEmbedding/data/Evaluation Data/retrieval_results_{dataset}-wikidata_prototype-DB(en)-Query(en)_reranked.pkl'\n",
    "files = [\n",
    "    f'/home/philippe.saade/GitHub/WikidataTextEmbedding/data/Evaluation Data/retrieval_results_{dataset}-wikidatav10_v3_sorted-DB(en)-Query(en)_wikidata_keywordsearch_bm25.pkl',\n",
    "    f'/home/philippe.saade/GitHub/WikidataTextEmbedding/data/Evaluation Data/retrieval_results_{dataset}-wikidata_prototype-DB(en)-Query(en)_prototype.pkl',\n",
    "]\n",
    "names = [\n",
    "    'Keyword Search',\n",
    "    'Sorted & Filtered + Names'\n",
    "]\n",
    "\n",
    "# Resume if partial save exists\n",
    "if os.path.exists(save_path):\n",
    "    print(\"Resuming from saved file...\")\n",
    "    prep_vector = pickle.load(open(save_path, \"rb\"))\n",
    "else:\n",
    "    prep_keyword = pickle.load(open(files[0], \"rb\"))\n",
    "    prep_vector = pickle.load(open(files[1], \"rb\"))\n",
    "\n",
    "    prep_vector['Retrieval QIDs KS'] = prep_keyword['Retrieval QIDs']\n",
    "    prep_vector['Retrieval Score KS'] = prep_keyword['Retrieval Score']\n",
    "\n",
    "    prep_vector['Retrieval Reranks'] = None\n",
    "    prep_vector['Retrieval Reranks KS'] = None\n",
    "\n",
    "def is_empty(x):\n",
    "    return (x is None) or (len(x) == 0)\n",
    "missing_qids = prep_vector['Retrieval Reranks'].apply(is_empty)\n",
    "missing_scores = prep_vector['Retrieval Reranks KS'].apply(is_empty)\n",
    "row_to_process = missing_qids | missing_scores\n",
    "row_to_process = prep_vector[row_to_process].index\n",
    "\n",
    "# Progressive processing\n",
    "for idx in tqdm(row_to_process):\n",
    "    if pd.isna(prep_vector.loc[idx, 'Retrieval Reranks']) or pd.isna(prep_vector.loc[idx, 'Retrieval Reranks KS']):\n",
    "        question = prep_vector.loc[idx, 'Question']\n",
    "        qids = prep_vector.loc[idx, 'Retrieval QIDs']\n",
    "        qids_ks = prep_vector.loc[idx, 'Retrieval QIDs KS']\n",
    "\n",
    "        qids = [id.split(\"_\")[0] for id in qids]\n",
    "        qids_ks = [id.split(\"_\")[0] for id in qids_ks]\n",
    "\n",
    "        # Rerank if not already processed\n",
    "        prep_vector.at[idx, 'Retrieval Reranks'] = rerank_qids(question, qids)\n",
    "        prep_vector.at[idx, 'Retrieval Reranks KS'] = rerank_qids(question, qids_ks)\n",
    "\n",
    "        # Save every 100 runs\n",
    "        if idx % 100 == 0:\n",
    "            with open(save_path, \"wb\") as f:\n",
    "                pickle.dump(prep_vector, f)\n",
    "\n",
    "# Final save\n",
    "with open(save_path, \"wb\") as f:\n",
    "    pickle.dump(prep_vector, f)\n",
    "print(\"Finished and saved.\")"
   ]
  }
 ],
 "metadata": {
  "kernelspec": {
   "display_name": "base",
   "language": "python",
   "name": "python3"
  },
  "language_info": {
   "codemirror_mode": {
    "name": "ipython",
    "version": 3
   },
   "file_extension": ".py",
   "mimetype": "text/x-python",
   "name": "python",
   "nbconvert_exporter": "python",
   "pygments_lexer": "ipython3",
   "version": "3.12.2"
  }
 },
 "nbformat": 4,
 "nbformat_minor": 2
}
